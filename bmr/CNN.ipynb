{
  "nbformat": 4,
  "nbformat_minor": 0,
  "metadata": {
    "colab": {
      "provenance": [],
      "private_outputs": true,
      "gpuType": "T4"
    },
    "kernelspec": {
      "name": "python3",
      "display_name": "Python 3"
    },
    "language_info": {
      "name": "python"
    },
    "accelerator": "GPU"
  },
  "cells": [
    {
      "cell_type": "markdown",
      "source": [
        "# 导入相应的库"
      ],
      "metadata": {
        "id": "N3crfdak_QKw"
      }
    },
    {
      "cell_type": "code",
      "source": [
        "# 数据处理库\n",
        "import numpy as np\n",
        "import pandas as pd\n",
        "\n",
        "# 数据分割库\n",
        "from sklearn.model_selection import train_test_split\n",
        "\n",
        "# 数据标准化库\n",
        "from sklearn.preprocessing import StandardScaler\n",
        "\n",
        "# 模型评价库\n",
        "from sklearn.metrics import accuracy_score\n",
        "\n",
        "# 深度学习库\n",
        "import tensorflow as tf\n",
        "from tensorflow.keras.layers import Conv1D, Dense, MaxPooling1D, Flatten, BatchNormalization, Dropout, Activation\n",
        "from tensorflow.keras.models import Sequential, load_model\n",
        "from tensorflow.keras.optimizers import Adam"
      ],
      "metadata": {
        "id": "OV-FPnKcmtrZ"
      },
      "execution_count": null,
      "outputs": []
    },
    {
      "cell_type": "markdown",
      "source": [
        "# 数据读取"
      ],
      "metadata": {
        "id": "VBfp9KG1_vrk"
      }
    },
    {
      "cell_type": "code",
      "source": [
        "df = pd.read_csv(\"drive/MyDrive/dataset/sample.csv\")"
      ],
      "metadata": {
        "id": "kl_c3iNK_x1-"
      },
      "execution_count": null,
      "outputs": []
    },
    {
      "cell_type": "code",
      "source": [
        "df = df.drop(\"Unnamed: 0\", axis=1)"
      ],
      "metadata": {
        "id": "eWU9BfIk14O9"
      },
      "execution_count": null,
      "outputs": []
    },
    {
      "cell_type": "code",
      "source": [
        "df['Label1'].value_counts(normalize=True, sort=True)"
      ],
      "metadata": {
        "id": "zXl4c335nL0q"
      },
      "execution_count": null,
      "outputs": []
    },
    {
      "cell_type": "markdown",
      "source": [
        "# 训练集和测试集准备"
      ],
      "metadata": {
        "id": "jCqYN-YAAROM"
      }
    },
    {
      "cell_type": "code",
      "source": [
        "data = df.iloc[:, :-1]\n",
        "target = df.iloc[:, -1]"
      ],
      "metadata": {
        "id": "B2qHEhcs1Q-r"
      },
      "execution_count": null,
      "outputs": []
    },
    {
      "cell_type": "code",
      "source": [
        "# 数据分割\n",
        "x_train, x_test, y_train, y_test = train_test_split(data, target, test_size=0.3)"
      ],
      "metadata": {
        "id": "P8FiHwfm1cnB"
      },
      "execution_count": null,
      "outputs": []
    },
    {
      "cell_type": "code",
      "source": [
        "# 数据标准化\n",
        "std = StandardScaler()\n",
        "x_train = std.fit_transform(x_train)\n",
        "x_test = std.fit_transform(x_test)"
      ],
      "metadata": {
        "id": "STObU24n1gKa"
      },
      "execution_count": null,
      "outputs": []
    },
    {
      "cell_type": "code",
      "source": [
        "# 数据维度调整\n",
        "x_train = np.expand_dims(x_train, axis=2)\n",
        "x_test = np.expand_dims(x_test, axis=2)"
      ],
      "metadata": {
        "id": "aNYqc1Rz1nbO"
      },
      "execution_count": null,
      "outputs": []
    },
    {
      "cell_type": "markdown",
      "source": [
        "# 训练模型"
      ],
      "metadata": {
        "id": "VL5-toP9AhS7"
      }
    },
    {
      "cell_type": "code",
      "source": [
        "def train():\n",
        "    # 参数定义\n",
        "    print(\"========================定义参数中========================\")\n",
        "    num_classes = 2\n",
        "    learning_rate = 0.000005\n",
        "\n",
        "\n",
        "    # 模型初始化\n",
        "    print(\"========================模型初始化中========================\")\n",
        "    cnn_model = Sequential()\n",
        "    cnn_model.add(Conv1D(32, 3, activation='relu', input_shape=(x_train.shape[1], 1)))\n",
        "    cnn_model.add(BatchNormalization())\n",
        "    cnn_model.add(Activation('relu'))\n",
        "    cnn_model.add(MaxPooling1D(2))\n",
        "    cnn_model.add(Dropout(0.1))\n",
        "    cnn_model.add(Conv1D(64, 3, activation='relu'))\n",
        "    cnn_model.add(BatchNormalization())\n",
        "    cnn_model.add(Activation('relu'))\n",
        "    cnn_model.add(MaxPooling1D(2))\n",
        "    cnn_model.add(Dropout(0.1))\n",
        "    cnn_model.add(Flatten())\n",
        "    cnn_model.add(BatchNormalization())\n",
        "    cnn_model.add(Dense(64, activation='relu'))\n",
        "    cnn_model.add(Dropout(0.1))\n",
        "    cnn_model.add(Dense(1, activation='sigmoid'))\n",
        "\n",
        "    print(\"========================模型编译中========================\")\n",
        "    # 编译模型\n",
        "    optimizer = Adam(learning_rate=learning_rate)\n",
        "    cnn_model.compile(optimizer=optimizer, loss='binary_crossentropy', metrics=['accuracy'])\n",
        "\n",
        "    print(\"========================模型训练中========================\")\n",
        "    # 训练模型\n",
        "    cnn_model.fit(x_train, y_train, epochs=10, batch_size=128, validation_data=(x_test, y_test))\n",
        "\n",
        "    print(\"========================模型验证中========================\")\n",
        "    # 验证模型\n",
        "    validation_loss, validation_accuracy = cnn_model.evaluate(x_test, y_test)\n",
        "\n",
        "    print(\"========================模型保存中========================\")\n",
        "    # 保存模型\n",
        "    cnn_model.save('cnn_model.h5')"
      ],
      "metadata": {
        "id": "wf0u7HCU1px3"
      },
      "execution_count": null,
      "outputs": []
    },
    {
      "cell_type": "markdown",
      "source": [
        "# 模型评价"
      ],
      "metadata": {
        "id": "fdZ-vAkSBVHS"
      }
    },
    {
      "cell_type": "code",
      "source": [
        "def test():\n",
        "    cnn_model = load_model('cnn_model.h5')\n",
        "    validation_loss, validation_accuracy = cnn_model.evaluate(x_test, y_test)\n",
        "    y_pred_prob = cnn_model.predict(x_test)\n",
        "    y_pred = np.where(y_pred_prob >= 0.5, 1, 0)\n",
        "    y_pred = np.squeeze(y_pred)\n",
        "\n",
        "    # 计算Accuracy\n",
        "    accuracy = tf.keras.metrics.Accuracy()\n",
        "    accuracy.update_state(y_test, y_pred)\n",
        "    accuracy_result = accuracy.result()\n",
        "\n",
        "    # 计算Precision\n",
        "    precision = tf.keras.metrics.Precision()\n",
        "    precision.update_state(y_test, y_pred)\n",
        "    precision_result = precision.result()\n",
        "\n",
        "    # 计算Recall\n",
        "    recall = tf.keras.metrics.Recall()\n",
        "    recall.update_state(y_test, y_pred)\n",
        "    recall_result = recall.result()\n",
        "\n",
        "    # 计算F1 Score\n",
        "    f1_score = 2 * (precision_result * recall_result) / (precision_result + recall_result)\n",
        "\n",
        "    print(f'Loss：{validation_loss}')\n",
        "    print(f'Accuracy：{validation_accuracy}')\n",
        "    print(\"Precision:\", precision_result)\n",
        "    print(\"Recall:\", recall_result)\n",
        "    print(\"F1 Score:\", f1_score)\n",
        "    return validation_accuracy"
      ],
      "metadata": {
        "id": "kqoG8OHk1rgp"
      },
      "execution_count": null,
      "outputs": []
    },
    {
      "cell_type": "code",
      "source": [
        "train()"
      ],
      "metadata": {
        "id": "fd-JrskEGJV7"
      },
      "execution_count": null,
      "outputs": []
    },
    {
      "cell_type": "code",
      "source": [
        "test()"
      ],
      "metadata": {
        "id": "4RPttTOB6HE-"
      },
      "execution_count": null,
      "outputs": []
    },
    {
      "cell_type": "code",
      "source": [
        "acc"
      ],
      "metadata": {
        "id": "_QwayWnuFq7f"
      },
      "execution_count": null,
      "outputs": []
    },
    {
      "cell_type": "code",
      "source": [],
      "metadata": {
        "id": "tRS_i00aFrXK"
      },
      "execution_count": null,
      "outputs": []
    }
  ]
}