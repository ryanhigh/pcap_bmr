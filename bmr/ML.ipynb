{
 "cells": [
  {
   "cell_type": "markdown",
   "id": "d799a559-e956-48bf-9017-a89d7f11374b",
   "metadata": {},
   "source": [
    "## 库导入"
   ]
  },
  {
   "cell_type": "code",
   "execution_count": 1,
   "id": "a0c48a17-e4a1-4e48-80e9-8f38b159f42c",
   "metadata": {},
   "outputs": [],
   "source": [
    "import pandas as pd\n",
    "import numpy as np\n",
    "import os"
   ]
  },
  {
   "cell_type": "markdown",
   "id": "9bd9acf4-9cd6-4853-867b-e4fa112d526c",
   "metadata": {},
   "source": [
    "## 文件解析\n",
    "\n",
    "主要任务是将所有.csv文件拼接在一起，从而形成一个完整的数据集，并将该数据集存储为totalData.csv"
   ]
  },
  {
   "cell_type": "code",
   "execution_count": 2,
   "id": "418685f4-01a2-4fdb-89f0-8f5f11d2326b",
   "metadata": {},
   "outputs": [],
   "source": [
    "'''\n",
    "fileConcatnate用于对所有csv文件实现解析，合并成一个大的csv文件\n",
    "'''\n",
    "def fileConcatenate():\n",
    "    # 要处理的csv文件的根路径\n",
    "    root_path = '../../DataSet/CSV'\n",
    "\n",
    "    # 根路径下的文件夹名称\n",
    "    root_dir = os.listdir(root_path)\n",
    "\n",
    "    # 先读入第一个csv文件作为初始的df\n",
    "    df = pd.read_csv(f'../../DataSet/CSV/SMSmalware/Jifake/08_10_2017-ps-jifake-F-Secure-0a6bd6d44fc7865847c5cc521be5edd0.pcap_ISCX.csv')\n",
    "\n",
    "    for d1 in root_dir:\n",
    "        # 避免对.DS_Store进行处理\n",
    "        if d1[0] == '.':\n",
    "            continue\n",
    "        layer1_path = root_path + '/' + d1\n",
    "        next_dir = os.listdir(layer1_path)\n",
    "        for d2 in next_dir:\n",
    "            if d2[0] == '.':\n",
    "                continue\n",
    "            layer2_path = layer1_path + '/' + d2\n",
    "            next_dir2 = os.listdir(layer2_path)\n",
    "            for filename in next_dir2:\n",
    "                if filename == '08_10_2017-ps-jifake-F-Secure-0a6bd6d44fc7865847c5cc521be5edd0.pcap_ISCX.csv':\n",
    "                    continue\n",
    "                file_path = layer2_path + '/' + filename\n",
    "                df2 = pd.read_csv(file_path)\n",
    "                df = pd.concat([df, df2])\n",
    "    df.to_csv('totalData.csv')\n",
    "\n",
    "#fileConcatenate()"
   ]
  },
  {
   "cell_type": "markdown",
   "id": "1b77ccf0-21bb-497b-8d52-22c51a1e1657",
   "metadata": {},
   "source": [
    "## 数据导入\n",
    "将完整的数据集通过pandas导入"
   ]
  },
  {
   "cell_type": "code",
   "execution_count": 3,
   "id": "c4727a11-3018-4e3c-8d59-d0af85dda956",
   "metadata": {},
   "outputs": [
    {
     "name": "stderr",
     "output_type": "stream",
     "text": [
      "/Users/macbook/opt/anaconda3/lib/python3.8/site-packages/IPython/core/interactiveshell.py:3165: DtypeWarning: Columns (26,48,56,58,63) have mixed types.Specify dtype option on import or set low_memory=False.\n",
      "  has_raised = await self.run_ast_nodes(code_ast.body, cell_name,\n"
     ]
    }
   ],
   "source": [
    "df = pd.read_csv('totalData.csv')"
   ]
  },
  {
   "cell_type": "markdown",
   "id": "193a5a85-f201-4169-911a-226496f4bc61",
   "metadata": {},
   "source": [
    "## 数据清洗\n",
    "对列名格式、数据类型、空值、异常值进行处理"
   ]
  },
  {
   "cell_type": "markdown",
   "id": "f3e93ec0-9c93-4b94-92c6-e3450add906a",
   "metadata": {},
   "source": [
    "### 数据体量与字段查看"
   ]
  },
  {
   "cell_type": "code",
   "execution_count": 4,
   "id": "787da376-1ec3-41ab-8292-49c2fdcae0ca",
   "metadata": {},
   "outputs": [
    {
     "data": {
      "text/plain": [
       "(2616541, 86)"
      ]
     },
     "execution_count": 4,
     "metadata": {},
     "output_type": "execute_result"
    }
   ],
   "source": [
    "# 查看数据集的体量\n",
    "df.shape"
   ]
  },
  {
   "cell_type": "code",
   "execution_count": 5,
   "id": "a98b90a5-ac59-496d-b6a0-ec4a0125dab4",
   "metadata": {},
   "outputs": [
    {
     "name": "stdout",
     "output_type": "stream",
     "text": [
      "<class 'pandas.core.frame.DataFrame'>\n",
      "RangeIndex: 2616541 entries, 0 to 2616540\n",
      "Data columns (total 86 columns):\n",
      " #   Column                        Dtype  \n",
      "---  ------                        -----  \n",
      " 0   Unnamed: 0                    int64  \n",
      " 1   Flow ID                       object \n",
      " 2    Source IP                    object \n",
      " 3    Source Port                  float64\n",
      " 4    Destination IP               object \n",
      " 5    Destination Port             float64\n",
      " 6    Protocol                     float64\n",
      " 7    Timestamp                    object \n",
      " 8    Flow Duration                float64\n",
      " 9    Total Fwd Packets            float64\n",
      " 10   Total Backward Packets       float64\n",
      " 11  Total Length of Fwd Packets   float64\n",
      " 12   Total Length of Bwd Packets  float64\n",
      " 13   Fwd Packet Length Max        float64\n",
      " 14   Fwd Packet Length Min        float64\n",
      " 15   Fwd Packet Length Mean       float64\n",
      " 16   Fwd Packet Length Std        float64\n",
      " 17  Bwd Packet Length Max         float64\n",
      " 18   Bwd Packet Length Min        float64\n",
      " 19   Bwd Packet Length Mean       float64\n",
      " 20   Bwd Packet Length Std        float64\n",
      " 21  Flow Bytes/s                  float64\n",
      " 22   Flow Packets/s               float64\n",
      " 23   Flow IAT Mean                float64\n",
      " 24   Flow IAT Std                 float64\n",
      " 25   Flow IAT Max                 float64\n",
      " 26   Flow IAT Min                 object \n",
      " 27  Fwd IAT Total                 float64\n",
      " 28   Fwd IAT Mean                 float64\n",
      " 29   Fwd IAT Std                  float64\n",
      " 30   Fwd IAT Max                  float64\n",
      " 31   Fwd IAT Min                  float64\n",
      " 32  Bwd IAT Total                 float64\n",
      " 33   Bwd IAT Mean                 float64\n",
      " 34   Bwd IAT Std                  float64\n",
      " 35   Bwd IAT Max                  float64\n",
      " 36   Bwd IAT Min                  float64\n",
      " 37  Fwd PSH Flags                 float64\n",
      " 38   Bwd PSH Flags                float64\n",
      " 39   Fwd URG Flags                float64\n",
      " 40   Bwd URG Flags                float64\n",
      " 41   Fwd Header Length            float64\n",
      " 42   Bwd Header Length            float64\n",
      " 43  Fwd Packets/s                 float64\n",
      " 44   Bwd Packets/s                float64\n",
      " 45   Min Packet Length            float64\n",
      " 46   Max Packet Length            float64\n",
      " 47   Packet Length Mean           float64\n",
      " 48   Packet Length Std            object \n",
      " 49   Packet Length Variance       float64\n",
      " 50  FIN Flag Count                float64\n",
      " 51   SYN Flag Count               float64\n",
      " 52   RST Flag Count               float64\n",
      " 53   PSH Flag Count               float64\n",
      " 54   ACK Flag Count               float64\n",
      " 55   URG Flag Count               float64\n",
      " 56   CWE Flag Count               object \n",
      " 57   ECE Flag Count               float64\n",
      " 58   Down/Up Ratio                object \n",
      " 59   Average Packet Size          float64\n",
      " 60   Avg Fwd Segment Size         float64\n",
      " 61   Avg Bwd Segment Size         float64\n",
      " 62   Fwd Header Length.1          float64\n",
      " 63  Fwd Avg Bytes/Bulk            object \n",
      " 64   Fwd Avg Packets/Bulk         float64\n",
      " 65   Fwd Avg Bulk Rate            float64\n",
      " 66   Bwd Avg Bytes/Bulk           float64\n",
      " 67   Bwd Avg Packets/Bulk         float64\n",
      " 68  Bwd Avg Bulk Rate             float64\n",
      " 69  Subflow Fwd Packets           float64\n",
      " 70   Subflow Fwd Bytes            float64\n",
      " 71   Subflow Bwd Packets          float64\n",
      " 72   Subflow Bwd Bytes            float64\n",
      " 73  Init_Win_bytes_forward        float64\n",
      " 74   Init_Win_bytes_backward      float64\n",
      " 75   act_data_pkt_fwd             float64\n",
      " 76   min_seg_size_forward         float64\n",
      " 77  Active Mean                   float64\n",
      " 78   Active Std                   float64\n",
      " 79   Active Max                   float64\n",
      " 80   Active Min                   float64\n",
      " 81  Idle Mean                     float64\n",
      " 82   Idle Std                     float64\n",
      " 83   Idle Max                     float64\n",
      " 84   Idle Min                     float64\n",
      " 85   Label                        object \n",
      "dtypes: float64(75), int64(1), object(10)\n",
      "memory usage: 1.7+ GB\n"
     ]
    }
   ],
   "source": [
    "# 查看数据集的基本信息，发现有80+个特征\n",
    "df.info()"
   ]
  },
  {
   "cell_type": "code",
   "execution_count": 6,
   "id": "9a7975a0-fee4-450f-9a49-2a63ba5e080e",
   "metadata": {},
   "outputs": [],
   "source": [
    "# 由于csv导入的问题，去掉第一列\n",
    "df = df.drop('Unnamed: 0', axis=1)"
   ]
  },
  {
   "cell_type": "code",
   "execution_count": 7,
   "id": "93061861-76a2-4e02-a86a-461154e088ba",
   "metadata": {},
   "outputs": [
    {
     "name": "stdout",
     "output_type": "stream",
     "text": [
      "<class 'pandas.core.frame.DataFrame'>\n",
      "RangeIndex: 2616541 entries, 0 to 2616540\n",
      "Data columns (total 85 columns):\n",
      " #   Column                       Dtype  \n",
      "---  ------                       -----  \n",
      " 0   Flow ID                      object \n",
      " 1   Source IP                    object \n",
      " 2   Source Port                  float64\n",
      " 3   Destination IP               object \n",
      " 4   Destination Port             float64\n",
      " 5   Protocol                     float64\n",
      " 6   Timestamp                    object \n",
      " 7   Flow Duration                float64\n",
      " 8   Total Fwd Packets            float64\n",
      " 9   Total Backward Packets       float64\n",
      " 10  Total Length of Fwd Packets  float64\n",
      " 11  Total Length of Bwd Packets  float64\n",
      " 12  Fwd Packet Length Max        float64\n",
      " 13  Fwd Packet Length Min        float64\n",
      " 14  Fwd Packet Length Mean       float64\n",
      " 15  Fwd Packet Length Std        float64\n",
      " 16  Bwd Packet Length Max        float64\n",
      " 17  Bwd Packet Length Min        float64\n",
      " 18  Bwd Packet Length Mean       float64\n",
      " 19  Bwd Packet Length Std        float64\n",
      " 20  Flow Bytes/s                 float64\n",
      " 21  Flow Packets/s               float64\n",
      " 22  Flow IAT Mean                float64\n",
      " 23  Flow IAT Std                 float64\n",
      " 24  Flow IAT Max                 float64\n",
      " 25  Flow IAT Min                 object \n",
      " 26  Fwd IAT Total                float64\n",
      " 27  Fwd IAT Mean                 float64\n",
      " 28  Fwd IAT Std                  float64\n",
      " 29  Fwd IAT Max                  float64\n",
      " 30  Fwd IAT Min                  float64\n",
      " 31  Bwd IAT Total                float64\n",
      " 32  Bwd IAT Mean                 float64\n",
      " 33  Bwd IAT Std                  float64\n",
      " 34  Bwd IAT Max                  float64\n",
      " 35  Bwd IAT Min                  float64\n",
      " 36  Fwd PSH Flags                float64\n",
      " 37  Bwd PSH Flags                float64\n",
      " 38  Fwd URG Flags                float64\n",
      " 39  Bwd URG Flags                float64\n",
      " 40  Fwd Header Length            float64\n",
      " 41  Bwd Header Length            float64\n",
      " 42  Fwd Packets/s                float64\n",
      " 43  Bwd Packets/s                float64\n",
      " 44  Min Packet Length            float64\n",
      " 45  Max Packet Length            float64\n",
      " 46  Packet Length Mean           float64\n",
      " 47  Packet Length Std            object \n",
      " 48  Packet Length Variance       float64\n",
      " 49  FIN Flag Count               float64\n",
      " 50  SYN Flag Count               float64\n",
      " 51  RST Flag Count               float64\n",
      " 52  PSH Flag Count               float64\n",
      " 53  ACK Flag Count               float64\n",
      " 54  URG Flag Count               float64\n",
      " 55  CWE Flag Count               object \n",
      " 56  ECE Flag Count               float64\n",
      " 57  Down/Up Ratio                object \n",
      " 58  Average Packet Size          float64\n",
      " 59  Avg Fwd Segment Size         float64\n",
      " 60  Avg Bwd Segment Size         float64\n",
      " 61  Fwd Header Length.1          float64\n",
      " 62  Fwd Avg Bytes/Bulk           object \n",
      " 63  Fwd Avg Packets/Bulk         float64\n",
      " 64  Fwd Avg Bulk Rate            float64\n",
      " 65  Bwd Avg Bytes/Bulk           float64\n",
      " 66  Bwd Avg Packets/Bulk         float64\n",
      " 67  Bwd Avg Bulk Rate            float64\n",
      " 68  Subflow Fwd Packets          float64\n",
      " 69  Subflow Fwd Bytes            float64\n",
      " 70  Subflow Bwd Packets          float64\n",
      " 71  Subflow Bwd Bytes            float64\n",
      " 72  Init_Win_bytes_forward       float64\n",
      " 73  Init_Win_bytes_backward      float64\n",
      " 74  act_data_pkt_fwd             float64\n",
      " 75  min_seg_size_forward         float64\n",
      " 76  Active Mean                  float64\n",
      " 77  Active Std                   float64\n",
      " 78  Active Max                   float64\n",
      " 79  Active Min                   float64\n",
      " 80  Idle Mean                    float64\n",
      " 81  Idle Std                     float64\n",
      " 82  Idle Max                     float64\n",
      " 83  Idle Min                     float64\n",
      " 84  Label                        object \n",
      "dtypes: float64(75), object(10)\n",
      "memory usage: 1.7+ GB\n"
     ]
    }
   ],
   "source": [
    "# 统一列名的格式，去除两侧的空格\n",
    "df.columns = df.columns.str.strip()\n",
    "df.info()"
   ]
  },
  {
   "cell_type": "code",
   "execution_count": 8,
   "id": "fdef10c9-8103-4016-b6fb-9ab81fc58e84",
   "metadata": {},
   "outputs": [],
   "source": [
    "# 将inf替换为nan\n",
    "df = df.replace([np.inf, -np.inf], np.nan)"
   ]
  },
  {
   "cell_type": "code",
   "execution_count": 9,
   "id": "092936ed-edc3-417f-a3ed-dffa9c1b84e0",
   "metadata": {},
   "outputs": [
    {
     "data": {
      "text/plain": [
       "Flow ID              4\n",
       "Source IP            0\n",
       "Source Port          0\n",
       "Destination IP       0\n",
       "Destination Port     0\n",
       "                    ..\n",
       "Idle Mean           11\n",
       "Idle Std            11\n",
       "Idle Max            11\n",
       "Idle Min            11\n",
       "Label               11\n",
       "Length: 85, dtype: int64"
      ]
     },
     "execution_count": 9,
     "metadata": {},
     "output_type": "execute_result"
    }
   ],
   "source": [
    "# 查看空值\n",
    "df.isnull().sum()"
   ]
  },
  {
   "cell_type": "code",
   "execution_count": 10,
   "id": "cd4be6a3-a099-4a5d-8b9d-a2d17e947af9",
   "metadata": {},
   "outputs": [
    {
     "data": {
      "text/plain": [
       "Flow ID             0\n",
       "Source IP           0\n",
       "Source Port         0\n",
       "Destination IP      0\n",
       "Destination Port    0\n",
       "                   ..\n",
       "Idle Mean           0\n",
       "Idle Std            0\n",
       "Idle Max            0\n",
       "Idle Min            0\n",
       "Label               0\n",
       "Length: 85, dtype: int64"
      ]
     },
     "execution_count": 10,
     "metadata": {},
     "output_type": "execute_result"
    }
   ],
   "source": [
    "# 处理空值，这里空值数量足够少，可以忽略不计，直接删除即可\n",
    "df.dropna(inplace=True)\n",
    "\n",
    "# 再次查看空值，发现已经没有空值\n",
    "df.isnull().sum()"
   ]
  },
  {
   "cell_type": "code",
   "execution_count": 11,
   "id": "121ca367-0944-4ac9-863a-0eb277297ee5",
   "metadata": {},
   "outputs": [
    {
     "name": "stdout",
     "output_type": "stream",
     "text": [
      "<class 'pandas.core.frame.DataFrame'>\n",
      "Int64Index: 2616528 entries, 0 to 2616540\n",
      "Data columns (total 85 columns):\n",
      " #   Column                       Dtype  \n",
      "---  ------                       -----  \n",
      " 0   Flow ID                      object \n",
      " 1   Source IP                    object \n",
      " 2   Source Port                  int64  \n",
      " 3   Destination IP               object \n",
      " 4   Destination Port             int64  \n",
      " 5   Protocol                     int64  \n",
      " 6   Timestamp                    object \n",
      " 7   Flow Duration                float64\n",
      " 8   Total Fwd Packets            float64\n",
      " 9   Total Backward Packets       float64\n",
      " 10  Total Length of Fwd Packets  float64\n",
      " 11  Total Length of Bwd Packets  float64\n",
      " 12  Fwd Packet Length Max        float64\n",
      " 13  Fwd Packet Length Min        float64\n",
      " 14  Fwd Packet Length Mean       float64\n",
      " 15  Fwd Packet Length Std        float64\n",
      " 16  Bwd Packet Length Max        float64\n",
      " 17  Bwd Packet Length Min        float64\n",
      " 18  Bwd Packet Length Mean       float64\n",
      " 19  Bwd Packet Length Std        float64\n",
      " 20  Flow Bytes/s                 float64\n",
      " 21  Flow Packets/s               float64\n",
      " 22  Flow IAT Mean                float64\n",
      " 23  Flow IAT Std                 float64\n",
      " 24  Flow IAT Max                 float64\n",
      " 25  Flow IAT Min                 float64\n",
      " 26  Fwd IAT Total                float64\n",
      " 27  Fwd IAT Mean                 float64\n",
      " 28  Fwd IAT Std                  float64\n",
      " 29  Fwd IAT Max                  float64\n",
      " 30  Fwd IAT Min                  float64\n",
      " 31  Bwd IAT Total                float64\n",
      " 32  Bwd IAT Mean                 float64\n",
      " 33  Bwd IAT Std                  float64\n",
      " 34  Bwd IAT Max                  float64\n",
      " 35  Bwd IAT Min                  float64\n",
      " 36  Fwd PSH Flags                float64\n",
      " 37  Bwd PSH Flags                float64\n",
      " 38  Fwd URG Flags                float64\n",
      " 39  Bwd URG Flags                float64\n",
      " 40  Fwd Header Length            float64\n",
      " 41  Bwd Header Length            float64\n",
      " 42  Fwd Packets/s                float64\n",
      " 43  Bwd Packets/s                float64\n",
      " 44  Min Packet Length            float64\n",
      " 45  Max Packet Length            float64\n",
      " 46  Packet Length Mean           float64\n",
      " 47  Packet Length Std            float64\n",
      " 48  Packet Length Variance       float64\n",
      " 49  FIN Flag Count               float64\n",
      " 50  SYN Flag Count               float64\n",
      " 51  RST Flag Count               float64\n",
      " 52  PSH Flag Count               float64\n",
      " 53  ACK Flag Count               float64\n",
      " 54  URG Flag Count               float64\n",
      " 55  CWE Flag Count               float64\n",
      " 56  ECE Flag Count               float64\n",
      " 57  Down/Up Ratio                float64\n",
      " 58  Average Packet Size          float64\n",
      " 59  Avg Fwd Segment Size         float64\n",
      " 60  Avg Bwd Segment Size         float64\n",
      " 61  Fwd Header Length.1          float64\n",
      " 62  Fwd Avg Bytes/Bulk           float64\n",
      " 63  Fwd Avg Packets/Bulk         float64\n",
      " 64  Fwd Avg Bulk Rate            float64\n",
      " 65  Bwd Avg Bytes/Bulk           float64\n",
      " 66  Bwd Avg Packets/Bulk         float64\n",
      " 67  Bwd Avg Bulk Rate            float64\n",
      " 68  Subflow Fwd Packets          float64\n",
      " 69  Subflow Fwd Bytes            float64\n",
      " 70  Subflow Bwd Packets          float64\n",
      " 71  Subflow Bwd Bytes            float64\n",
      " 72  Init_Win_bytes_forward       float64\n",
      " 73  Init_Win_bytes_backward      float64\n",
      " 74  act_data_pkt_fwd             float64\n",
      " 75  min_seg_size_forward         float64\n",
      " 76  Active Mean                  float64\n",
      " 77  Active Std                   float64\n",
      " 78  Active Max                   float64\n",
      " 79  Active Min                   float64\n",
      " 80  Idle Mean                    float64\n",
      " 81  Idle Std                     float64\n",
      " 82  Idle Max                     float64\n",
      " 83  Idle Min                     float64\n",
      " 84  Label                        object \n",
      "dtypes: float64(77), int64(3), object(5)\n",
      "memory usage: 1.7+ GB\n"
     ]
    }
   ],
   "source": [
    "# 处理数据类型，主要将object转为float64，float64转为int64\n",
    "df[['Flow IAT Min', 'Packet Length Std', 'CWE Flag Count', 'Down/Up Ratio', 'Fwd Avg Bytes/Bulk']] = df[['Flow IAT Min', 'Packet Length Std', 'CWE Flag Count', 'Down/Up Ratio', 'Fwd Avg Bytes/Bulk']].astype(np.float64)\n",
    "df[['Source Port', 'Destination Port', 'Protocol']] = df[['Source Port', 'Destination Port', 'Protocol']].astype(np.int64)\n",
    "df.info()"
   ]
  },
  {
   "cell_type": "markdown",
   "id": "4f486aa7-8486-44d8-9b62-46acf7505602",
   "metadata": {},
   "source": [
    "## 数据打标\n",
    "主要根据原始标签，将所有数据分为良性流量（0）和恶意流量（1）两类"
   ]
  },
  {
   "cell_type": "code",
   "execution_count": 12,
   "id": "f8fb01f2-8369-4c19-af9f-b1ec93bf579a",
   "metadata": {},
   "outputs": [],
   "source": [
    "# 对Label2进行条件判断，添加一级标签Label1\n",
    "'''\n",
    "良性流量（Good/0）包括：良性流量（Benign）\n",
    "恶意流量（Bad/1）包括：广告软件（Adware）、勒索软件（Ransomware）、恐吓软件（Scareware）、短信恶意软件（SMS Malware）\n",
    "'''\n",
    "def label1(x):\n",
    "    if x['Label'] == 'BENIGN':\n",
    "        return 0\n",
    "    else:\n",
    "        return 1\n",
    "df.loc[:, 'Label1'] = df.apply(label1, axis=1)"
   ]
  },
  {
   "cell_type": "code",
   "execution_count": 13,
   "id": "d5e8dc4b-67e8-4e9e-95fb-003780e3e5fe",
   "metadata": {},
   "outputs": [
    {
     "data": {
      "text/html": [
       "<div>\n",
       "<style scoped>\n",
       "    .dataframe tbody tr th:only-of-type {\n",
       "        vertical-align: middle;\n",
       "    }\n",
       "\n",
       "    .dataframe tbody tr th {\n",
       "        vertical-align: top;\n",
       "    }\n",
       "\n",
       "    .dataframe thead th {\n",
       "        text-align: right;\n",
       "    }\n",
       "</style>\n",
       "<table border=\"1\" class=\"dataframe\">\n",
       "  <thead>\n",
       "    <tr style=\"text-align: right;\">\n",
       "      <th></th>\n",
       "      <th>Flow ID</th>\n",
       "      <th>Source IP</th>\n",
       "      <th>Source Port</th>\n",
       "      <th>Destination IP</th>\n",
       "      <th>Destination Port</th>\n",
       "      <th>Protocol</th>\n",
       "      <th>Timestamp</th>\n",
       "      <th>Flow Duration</th>\n",
       "      <th>Total Fwd Packets</th>\n",
       "      <th>Total Backward Packets</th>\n",
       "      <th>...</th>\n",
       "      <th>Active Mean</th>\n",
       "      <th>Active Std</th>\n",
       "      <th>Active Max</th>\n",
       "      <th>Active Min</th>\n",
       "      <th>Idle Mean</th>\n",
       "      <th>Idle Std</th>\n",
       "      <th>Idle Max</th>\n",
       "      <th>Idle Min</th>\n",
       "      <th>Label</th>\n",
       "      <th>Label1</th>\n",
       "    </tr>\n",
       "  </thead>\n",
       "  <tbody>\n",
       "    <tr>\n",
       "      <th>349868</th>\n",
       "      <td>180.149.136.194-10.42.0.42-80-35951-6</td>\n",
       "      <td>10.42.0.42</td>\n",
       "      <td>35951</td>\n",
       "      <td>180.149.136.194</td>\n",
       "      <td>80</td>\n",
       "      <td>6</td>\n",
       "      <td>21/06/2017 06:18:38</td>\n",
       "      <td>266261.0</td>\n",
       "      <td>1.0</td>\n",
       "      <td>1.0</td>\n",
       "      <td>...</td>\n",
       "      <td>0.0</td>\n",
       "      <td>0.0</td>\n",
       "      <td>0.0</td>\n",
       "      <td>0.0</td>\n",
       "      <td>0.0</td>\n",
       "      <td>0.0</td>\n",
       "      <td>0.0</td>\n",
       "      <td>0.0</td>\n",
       "      <td>BENIGN</td>\n",
       "      <td>0</td>\n",
       "    </tr>\n",
       "    <tr>\n",
       "      <th>1805950</th>\n",
       "      <td>10.42.0.211-91.190.218.52-54219-12350-6</td>\n",
       "      <td>91.190.218.52</td>\n",
       "      <td>12350</td>\n",
       "      <td>10.42.0.211</td>\n",
       "      <td>54219</td>\n",
       "      <td>6</td>\n",
       "      <td>29/06/2017 09:24:49</td>\n",
       "      <td>3165.0</td>\n",
       "      <td>1.0</td>\n",
       "      <td>1.0</td>\n",
       "      <td>...</td>\n",
       "      <td>0.0</td>\n",
       "      <td>0.0</td>\n",
       "      <td>0.0</td>\n",
       "      <td>0.0</td>\n",
       "      <td>0.0</td>\n",
       "      <td>0.0</td>\n",
       "      <td>0.0</td>\n",
       "      <td>0.0</td>\n",
       "      <td>SCAREWARE_FAKEJOBOFFER</td>\n",
       "      <td>1</td>\n",
       "    </tr>\n",
       "    <tr>\n",
       "      <th>2046914</th>\n",
       "      <td>10.42.0.151-47.93.77.222-58840-80-6</td>\n",
       "      <td>10.42.0.151</td>\n",
       "      <td>58840</td>\n",
       "      <td>47.93.77.222</td>\n",
       "      <td>80</td>\n",
       "      <td>6</td>\n",
       "      <td>28/06/2017 09:04:50</td>\n",
       "      <td>32199.0</td>\n",
       "      <td>2.0</td>\n",
       "      <td>0.0</td>\n",
       "      <td>...</td>\n",
       "      <td>0.0</td>\n",
       "      <td>0.0</td>\n",
       "      <td>0.0</td>\n",
       "      <td>0.0</td>\n",
       "      <td>0.0</td>\n",
       "      <td>0.0</td>\n",
       "      <td>0.0</td>\n",
       "      <td>0.0</td>\n",
       "      <td>SCAREWARE_FAKEAPPAL</td>\n",
       "      <td>1</td>\n",
       "    </tr>\n",
       "    <tr>\n",
       "      <th>239077</th>\n",
       "      <td>10.42.0.151-104.244.42.2-44393-443-6</td>\n",
       "      <td>10.42.0.151</td>\n",
       "      <td>44393</td>\n",
       "      <td>104.244.42.2</td>\n",
       "      <td>443</td>\n",
       "      <td>6</td>\n",
       "      <td>17/06/2017 10:16:57</td>\n",
       "      <td>10914209.0</td>\n",
       "      <td>10.0</td>\n",
       "      <td>7.0</td>\n",
       "      <td>...</td>\n",
       "      <td>260823.0</td>\n",
       "      <td>0.0</td>\n",
       "      <td>260823.0</td>\n",
       "      <td>260823.0</td>\n",
       "      <td>10653386.0</td>\n",
       "      <td>0.0</td>\n",
       "      <td>10653386.0</td>\n",
       "      <td>10653386.0</td>\n",
       "      <td>BENIGN</td>\n",
       "      <td>0</td>\n",
       "    </tr>\n",
       "    <tr>\n",
       "      <th>1652349</th>\n",
       "      <td>10.42.0.151-54.192.37.43-40459-80-6</td>\n",
       "      <td>10.42.0.151</td>\n",
       "      <td>40459</td>\n",
       "      <td>54.192.37.43</td>\n",
       "      <td>80</td>\n",
       "      <td>6</td>\n",
       "      <td>22/08/2017 12:16:48</td>\n",
       "      <td>80331.0</td>\n",
       "      <td>2.0</td>\n",
       "      <td>0.0</td>\n",
       "      <td>...</td>\n",
       "      <td>0.0</td>\n",
       "      <td>0.0</td>\n",
       "      <td>0.0</td>\n",
       "      <td>0.0</td>\n",
       "      <td>0.0</td>\n",
       "      <td>0.0</td>\n",
       "      <td>0.0</td>\n",
       "      <td>0.0</td>\n",
       "      <td>RANSOMWARE_WANNALOCKER</td>\n",
       "      <td>1</td>\n",
       "    </tr>\n",
       "  </tbody>\n",
       "</table>\n",
       "<p>5 rows × 86 columns</p>\n",
       "</div>"
      ],
      "text/plain": [
       "                                         Flow ID      Source IP  Source Port  \\\n",
       "349868     180.149.136.194-10.42.0.42-80-35951-6     10.42.0.42        35951   \n",
       "1805950  10.42.0.211-91.190.218.52-54219-12350-6  91.190.218.52        12350   \n",
       "2046914      10.42.0.151-47.93.77.222-58840-80-6    10.42.0.151        58840   \n",
       "239077      10.42.0.151-104.244.42.2-44393-443-6    10.42.0.151        44393   \n",
       "1652349      10.42.0.151-54.192.37.43-40459-80-6    10.42.0.151        40459   \n",
       "\n",
       "          Destination IP  Destination Port  Protocol            Timestamp  \\\n",
       "349868   180.149.136.194                80         6  21/06/2017 06:18:38   \n",
       "1805950      10.42.0.211             54219         6  29/06/2017 09:24:49   \n",
       "2046914     47.93.77.222                80         6  28/06/2017 09:04:50   \n",
       "239077      104.244.42.2               443         6  17/06/2017 10:16:57   \n",
       "1652349     54.192.37.43                80         6  22/08/2017 12:16:48   \n",
       "\n",
       "         Flow Duration  Total Fwd Packets  Total Backward Packets  ...  \\\n",
       "349868        266261.0                1.0                     1.0  ...   \n",
       "1805950         3165.0                1.0                     1.0  ...   \n",
       "2046914        32199.0                2.0                     0.0  ...   \n",
       "239077      10914209.0               10.0                     7.0  ...   \n",
       "1652349        80331.0                2.0                     0.0  ...   \n",
       "\n",
       "         Active Mean  Active Std  Active Max  Active Min   Idle Mean  \\\n",
       "349868           0.0         0.0         0.0         0.0         0.0   \n",
       "1805950          0.0         0.0         0.0         0.0         0.0   \n",
       "2046914          0.0         0.0         0.0         0.0         0.0   \n",
       "239077      260823.0         0.0    260823.0    260823.0  10653386.0   \n",
       "1652349          0.0         0.0         0.0         0.0         0.0   \n",
       "\n",
       "         Idle Std    Idle Max    Idle Min                   Label  Label1  \n",
       "349868        0.0         0.0         0.0                  BENIGN       0  \n",
       "1805950       0.0         0.0         0.0  SCAREWARE_FAKEJOBOFFER       1  \n",
       "2046914       0.0         0.0         0.0     SCAREWARE_FAKEAPPAL       1  \n",
       "239077        0.0  10653386.0  10653386.0                  BENIGN       0  \n",
       "1652349       0.0         0.0         0.0  RANSOMWARE_WANNALOCKER       1  \n",
       "\n",
       "[5 rows x 86 columns]"
      ]
     },
     "execution_count": 13,
     "metadata": {},
     "output_type": "execute_result"
    }
   ],
   "source": [
    "# 查看标签是否成功标注\n",
    "df.sample(5)"
   ]
  },
  {
   "cell_type": "markdown",
   "id": "32a257bc-756e-454b-ada9-14df332d1fa4",
   "metadata": {},
   "source": [
    "## 数据分析\n",
    "主要分析不同标签占比情况"
   ]
  },
  {
   "cell_type": "code",
   "execution_count": 14,
   "id": "ba1a50e2-00a6-42b6-b4c0-0a83da41caab",
   "metadata": {},
   "outputs": [
    {
     "data": {
      "text/plain": [
       "BENIGN                       0.462525\n",
       "ADWARE_GOOLIGAN              0.035838\n",
       "ADWARE_FEIWO                 0.021644\n",
       "SCAREWARE_ANDROIDDEFENDER    0.021571\n",
       "RANSOMWARE_SVPENG            0.020700\n",
       "RANSOMWARE_PORNDROID         0.017612\n",
       "SCAREWARE_FAKEAPPAL          0.017031\n",
       "RANSOMWARE_KOLER             0.017028\n",
       "SMSMALWARE_NANDROBOX         0.017014\n",
       "ADWARE_EWIND                 0.016577\n",
       "SCAREWARE_AVFORANDROID       0.016223\n",
       "SCAREWARE_AVPASS             0.015584\n",
       "SCAREWARE_FAKEAV             0.015321\n",
       "RANSOMWARE_RANSOMBO          0.015234\n",
       "SMSMALWARE_PLANKTON          0.015198\n",
       "ADWARE_DOWGIN                0.015166\n",
       "RANSOMWARE_CHARGER           0.015116\n",
       "ADWARE_SHUANET               0.015009\n",
       "ADWARE_KEMOGE                0.014818\n",
       "RANSOMWARE_SIMPLOCKER        0.013889\n",
       "ADWARE_YOUMI                 0.013772\n",
       "SCAREWARE_FAKEAPP            0.013253\n",
       "SMSMALWARE_BIIGE             0.012871\n",
       "SMSMALWARE_SMSSNIFFER        0.012848\n",
       "SCAREWARE_FAKETAOBAO         0.012726\n",
       "RANSOMWARE_WANNALOCKER       0.012498\n",
       "ADWARE_KOODOUS               0.012439\n",
       "ADWARE_MOBIDASH              0.011861\n",
       "SCAREWARE_FAKEJOBOFFER       0.011727\n",
       "RANSOMWARE_JISUT             0.009811\n",
       "SCAREWARE_ANDROIDSPY         0.009713\n",
       "RANSOMWARE_LOCKERPIN         0.009672\n",
       "SCAREWARE_VIRUSSHIELD        0.009064\n",
       "SMSMALWARE_FAKENOTIFY        0.008483\n",
       "SCAREWARE_PENETHO            0.008267\n",
       "SMSMALWARE_FAKEINST          0.005743\n",
       "ADWARE_SELFMITE              0.004979\n",
       "SMSMALWARE_BEANBOT           0.004728\n",
       "SMSMALWARE_ZSONE             0.003686\n",
       "SCAREWARE                    0.002825\n",
       "SMSMALWARE_FAKEMART          0.002446\n",
       "SMSMALWARE_MAZARBOT          0.002318\n",
       "SMSMALWARE_JIFAKE            0.002290\n",
       "RANSOMWARE_PLETOR            0.001802\n",
       "MALWARE                      0.001081\n",
       "Name: Label, dtype: float64"
      ]
     },
     "execution_count": 14,
     "metadata": {},
     "output_type": "execute_result"
    }
   ],
   "source": [
    "# 对原始标签进行数据分析\n",
    "df['Label'].value_counts(normalize=True, sort=True)"
   ]
  },
  {
   "cell_type": "code",
   "execution_count": 15,
   "id": "f2bfead8-ef71-46c7-8659-541b96796e5c",
   "metadata": {},
   "outputs": [
    {
     "data": {
      "text/plain": [
       "1    0.537475\n",
       "0    0.462525\n",
       "Name: Label1, dtype: float64"
      ]
     },
     "execution_count": 15,
     "metadata": {},
     "output_type": "execute_result"
    }
   ],
   "source": [
    "# 对一级标签进行分析\n",
    "df['Label1'].value_counts(normalize=True, sort=True)"
   ]
  },
  {
   "cell_type": "code",
   "execution_count": 16,
   "id": "9f7ce72a-3572-426e-9278-04170c78c51e",
   "metadata": {},
   "outputs": [
    {
     "data": {
      "text/plain": [
       "ECE Flag Count          0.000000e+00\n",
       "Fwd URG Flags           0.000000e+00\n",
       "Bwd URG Flags           0.000000e+00\n",
       "Bwd Avg Bulk Rate       0.000000e+00\n",
       "Bwd Avg Packets/Bulk    0.000000e+00\n",
       "                            ...     \n",
       "Fwd IAT Total           1.857330e+07\n",
       "Flow Duration           2.201306e+07\n",
       "Fwd Header Length.1     1.796069e+08\n",
       "Fwd Header Length       1.796069e+08\n",
       "Bwd Header Length       3.129020e+08\n",
       "Length: 81, dtype: float64"
      ]
     },
     "execution_count": 16,
     "metadata": {},
     "output_type": "execute_result"
    }
   ],
   "source": [
    "# 对所有特征的方差进行分析\n",
    "df.std().sort_values()"
   ]
  },
  {
   "cell_type": "markdown",
   "id": "531d961b-43ba-4f52-a401-0cab844cbd0b",
   "metadata": {},
   "source": [
    "## 特征预处理"
   ]
  },
  {
   "cell_type": "markdown",
   "id": "4b8a61b3-71ba-46e2-96b8-629f3d599042",
   "metadata": {},
   "source": [
    "### 特征选择"
   ]
  },
  {
   "cell_type": "code",
   "execution_count": 17,
   "id": "16ff064b-cd96-458a-9584-f594c615bfc0",
   "metadata": {},
   "outputs": [],
   "source": [
    "# 首先，方差为0的特征不具有任何区分性，这里予以剔除\n",
    "df1 = df.drop([\"ECE Flag Count\",\n",
    "\"Fwd URG Flags\",\n",
    "\"Bwd URG Flags\",\n",
    "\"Bwd Avg Bulk Rate\",\n",
    "\"Bwd Avg Packets/Bulk\",\n",
    "\"Bwd Avg Bytes/Bulk\",\n",
    "\"Fwd Avg Bulk Rate\",\n",
    "\"Fwd Avg Packets/Bulk\",\n",
    "\"Fwd Avg Bytes/Bulk\",\n",
    "\"Bwd PSH Flags\",\n",
    "\"CWE Flag Count\",\n",
    "\"RST Flag Count\"], axis=1)"
   ]
  },
  {
   "cell_type": "code",
   "execution_count": 18,
   "id": "121bbf31-2cd6-46c4-bdd8-d6a7b3b5c631",
   "metadata": {},
   "outputs": [],
   "source": [
    "# 其次，这里仅采用Label1作为分类标签，对Label予以剔除\n",
    "df = df.drop([\"Label\"], axis=1)"
   ]
  },
  {
   "cell_type": "code",
   "execution_count": 19,
   "id": "b320293b-5771-445f-9110-6deb49bf4c1b",
   "metadata": {},
   "outputs": [],
   "source": [
    "# Flow_ID、时间戳Timestamp、源IP地址、目的IP地址在语义上不具备可区分性，予以剔除\n",
    "df = df.drop([\"Flow ID\", \"Source IP\", \"Destination IP\", \"Timestamp\"], axis=1)"
   ]
  },
  {
   "cell_type": "markdown",
   "id": "4d628927-7fe1-4d3b-a4c0-cd1369a1504b",
   "metadata": {},
   "source": [
    "### 数据集分割"
   ]
  },
  {
   "cell_type": "code",
   "execution_count": 20,
   "id": "77df2585-6209-431c-beef-f0c069df1b1e",
   "metadata": {},
   "outputs": [],
   "source": [
    "from sklearn.model_selection import train_test_split\n",
    "from sklearn.preprocessing import StandardScaler"
   ]
  },
  {
   "cell_type": "code",
   "execution_count": 21,
   "id": "fde3c9b9-6aa1-4404-a01a-8204b3d13217",
   "metadata": {},
   "outputs": [],
   "source": [
    "data = df.iloc[:, :-1]\n",
    "target = df.iloc[:, -1]"
   ]
  },
  {
   "cell_type": "code",
   "execution_count": 22,
   "id": "e9d88680-6be6-4b77-9b9f-67d2f772e847",
   "metadata": {},
   "outputs": [
    {
     "data": {
      "text/html": [
       "<div>\n",
       "<style scoped>\n",
       "    .dataframe tbody tr th:only-of-type {\n",
       "        vertical-align: middle;\n",
       "    }\n",
       "\n",
       "    .dataframe tbody tr th {\n",
       "        vertical-align: top;\n",
       "    }\n",
       "\n",
       "    .dataframe thead th {\n",
       "        text-align: right;\n",
       "    }\n",
       "</style>\n",
       "<table border=\"1\" class=\"dataframe\">\n",
       "  <thead>\n",
       "    <tr style=\"text-align: right;\">\n",
       "      <th></th>\n",
       "      <th>Source Port</th>\n",
       "      <th>Destination Port</th>\n",
       "      <th>Protocol</th>\n",
       "      <th>Flow Duration</th>\n",
       "      <th>Total Fwd Packets</th>\n",
       "      <th>Total Backward Packets</th>\n",
       "      <th>Total Length of Fwd Packets</th>\n",
       "      <th>Total Length of Bwd Packets</th>\n",
       "      <th>Fwd Packet Length Max</th>\n",
       "      <th>Fwd Packet Length Min</th>\n",
       "      <th>...</th>\n",
       "      <th>act_data_pkt_fwd</th>\n",
       "      <th>min_seg_size_forward</th>\n",
       "      <th>Active Mean</th>\n",
       "      <th>Active Std</th>\n",
       "      <th>Active Max</th>\n",
       "      <th>Active Min</th>\n",
       "      <th>Idle Mean</th>\n",
       "      <th>Idle Std</th>\n",
       "      <th>Idle Max</th>\n",
       "      <th>Idle Min</th>\n",
       "    </tr>\n",
       "  </thead>\n",
       "  <tbody>\n",
       "    <tr>\n",
       "      <th>1137071</th>\n",
       "      <td>80</td>\n",
       "      <td>55827</td>\n",
       "      <td>6</td>\n",
       "      <td>18019.0</td>\n",
       "      <td>1.0</td>\n",
       "      <td>3.0</td>\n",
       "      <td>470.0</td>\n",
       "      <td>0.0</td>\n",
       "      <td>470.0</td>\n",
       "      <td>470.0</td>\n",
       "      <td>...</td>\n",
       "      <td>0.0</td>\n",
       "      <td>20.0</td>\n",
       "      <td>0.0</td>\n",
       "      <td>0.0</td>\n",
       "      <td>0.0</td>\n",
       "      <td>0.0</td>\n",
       "      <td>0.0</td>\n",
       "      <td>0.0</td>\n",
       "      <td>0.0</td>\n",
       "      <td>0.0</td>\n",
       "    </tr>\n",
       "    <tr>\n",
       "      <th>380725</th>\n",
       "      <td>60899</td>\n",
       "      <td>443</td>\n",
       "      <td>6</td>\n",
       "      <td>66763810.0</td>\n",
       "      <td>19.0</td>\n",
       "      <td>29.0</td>\n",
       "      <td>2166.0</td>\n",
       "      <td>32530.0</td>\n",
       "      <td>564.0</td>\n",
       "      <td>0.0</td>\n",
       "      <td>...</td>\n",
       "      <td>5.0</td>\n",
       "      <td>20.0</td>\n",
       "      <td>2696863.0</td>\n",
       "      <td>0.0</td>\n",
       "      <td>2696863.0</td>\n",
       "      <td>2696863.0</td>\n",
       "      <td>64066488.0</td>\n",
       "      <td>0.0</td>\n",
       "      <td>64066488.0</td>\n",
       "      <td>64066488.0</td>\n",
       "    </tr>\n",
       "    <tr>\n",
       "      <th>1545642</th>\n",
       "      <td>38828</td>\n",
       "      <td>80</td>\n",
       "      <td>6</td>\n",
       "      <td>618497.0</td>\n",
       "      <td>3.0</td>\n",
       "      <td>3.0</td>\n",
       "      <td>1454.0</td>\n",
       "      <td>193.0</td>\n",
       "      <td>1454.0</td>\n",
       "      <td>0.0</td>\n",
       "      <td>...</td>\n",
       "      <td>1.0</td>\n",
       "      <td>20.0</td>\n",
       "      <td>0.0</td>\n",
       "      <td>0.0</td>\n",
       "      <td>0.0</td>\n",
       "      <td>0.0</td>\n",
       "      <td>0.0</td>\n",
       "      <td>0.0</td>\n",
       "      <td>0.0</td>\n",
       "      <td>0.0</td>\n",
       "    </tr>\n",
       "    <tr>\n",
       "      <th>1551392</th>\n",
       "      <td>42665</td>\n",
       "      <td>80</td>\n",
       "      <td>6</td>\n",
       "      <td>45866530.0</td>\n",
       "      <td>3.0</td>\n",
       "      <td>1.0</td>\n",
       "      <td>0.0</td>\n",
       "      <td>0.0</td>\n",
       "      <td>0.0</td>\n",
       "      <td>0.0</td>\n",
       "      <td>...</td>\n",
       "      <td>0.0</td>\n",
       "      <td>32.0</td>\n",
       "      <td>0.0</td>\n",
       "      <td>0.0</td>\n",
       "      <td>0.0</td>\n",
       "      <td>0.0</td>\n",
       "      <td>0.0</td>\n",
       "      <td>0.0</td>\n",
       "      <td>0.0</td>\n",
       "      <td>0.0</td>\n",
       "    </tr>\n",
       "    <tr>\n",
       "      <th>660148</th>\n",
       "      <td>1451</td>\n",
       "      <td>53</td>\n",
       "      <td>17</td>\n",
       "      <td>246740.0</td>\n",
       "      <td>1.0</td>\n",
       "      <td>1.0</td>\n",
       "      <td>30.0</td>\n",
       "      <td>83.0</td>\n",
       "      <td>30.0</td>\n",
       "      <td>30.0</td>\n",
       "      <td>...</td>\n",
       "      <td>0.0</td>\n",
       "      <td>32.0</td>\n",
       "      <td>0.0</td>\n",
       "      <td>0.0</td>\n",
       "      <td>0.0</td>\n",
       "      <td>0.0</td>\n",
       "      <td>0.0</td>\n",
       "      <td>0.0</td>\n",
       "      <td>0.0</td>\n",
       "      <td>0.0</td>\n",
       "    </tr>\n",
       "  </tbody>\n",
       "</table>\n",
       "<p>5 rows × 80 columns</p>\n",
       "</div>"
      ],
      "text/plain": [
       "         Source Port  Destination Port  Protocol  Flow Duration  \\\n",
       "1137071           80             55827         6        18019.0   \n",
       "380725         60899               443         6     66763810.0   \n",
       "1545642        38828                80         6       618497.0   \n",
       "1551392        42665                80         6     45866530.0   \n",
       "660148          1451                53        17       246740.0   \n",
       "\n",
       "         Total Fwd Packets  Total Backward Packets  \\\n",
       "1137071                1.0                     3.0   \n",
       "380725                19.0                    29.0   \n",
       "1545642                3.0                     3.0   \n",
       "1551392                3.0                     1.0   \n",
       "660148                 1.0                     1.0   \n",
       "\n",
       "         Total Length of Fwd Packets  Total Length of Bwd Packets  \\\n",
       "1137071                        470.0                          0.0   \n",
       "380725                        2166.0                      32530.0   \n",
       "1545642                       1454.0                        193.0   \n",
       "1551392                          0.0                          0.0   \n",
       "660148                          30.0                         83.0   \n",
       "\n",
       "         Fwd Packet Length Max  Fwd Packet Length Min  ...  act_data_pkt_fwd  \\\n",
       "1137071                  470.0                  470.0  ...               0.0   \n",
       "380725                   564.0                    0.0  ...               5.0   \n",
       "1545642                 1454.0                    0.0  ...               1.0   \n",
       "1551392                    0.0                    0.0  ...               0.0   \n",
       "660148                    30.0                   30.0  ...               0.0   \n",
       "\n",
       "         min_seg_size_forward  Active Mean  Active Std  Active Max  \\\n",
       "1137071                  20.0          0.0         0.0         0.0   \n",
       "380725                   20.0    2696863.0         0.0   2696863.0   \n",
       "1545642                  20.0          0.0         0.0         0.0   \n",
       "1551392                  32.0          0.0         0.0         0.0   \n",
       "660148                   32.0          0.0         0.0         0.0   \n",
       "\n",
       "         Active Min   Idle Mean  Idle Std    Idle Max    Idle Min  \n",
       "1137071         0.0         0.0       0.0         0.0         0.0  \n",
       "380725    2696863.0  64066488.0       0.0  64066488.0  64066488.0  \n",
       "1545642         0.0         0.0       0.0         0.0         0.0  \n",
       "1551392         0.0         0.0       0.0         0.0         0.0  \n",
       "660148          0.0         0.0       0.0         0.0         0.0  \n",
       "\n",
       "[5 rows x 80 columns]"
      ]
     },
     "execution_count": 22,
     "metadata": {},
     "output_type": "execute_result"
    }
   ],
   "source": [
    "data.sample(5)"
   ]
  },
  {
   "cell_type": "code",
   "execution_count": 23,
   "id": "21996810-4684-455f-b5cd-d854f471e3cf",
   "metadata": {},
   "outputs": [
    {
     "data": {
      "text/plain": [
       "357845     0\n",
       "1895079    1\n",
       "212707     1\n",
       "863973     0\n",
       "1495684    1\n",
       "Name: Label1, dtype: int64"
      ]
     },
     "execution_count": 23,
     "metadata": {},
     "output_type": "execute_result"
    }
   ],
   "source": [
    "target.sample(5)"
   ]
  },
  {
   "cell_type": "code",
   "execution_count": 24,
   "id": "5fcf0785-2e8b-489c-969e-11046ae099d5",
   "metadata": {},
   "outputs": [],
   "source": [
    "x_train, x_test, y_train, y_test = train_test_split(data, target, test_size=0.3)"
   ]
  },
  {
   "cell_type": "markdown",
   "id": "52046471-f96d-4e7a-a879-eac32f91e5b1",
   "metadata": {},
   "source": [
    "## 特征变换"
   ]
  },
  {
   "cell_type": "markdown",
   "id": "7eabb20a-6045-49fa-abc5-c4cba852151a",
   "metadata": {},
   "source": [
    "### 数据标准化"
   ]
  },
  {
   "cell_type": "code",
   "execution_count": 25,
   "id": "b8b0e75a-5230-4c00-9113-e18e1ac62a71",
   "metadata": {},
   "outputs": [],
   "source": [
    "std = StandardScaler()\n",
    "x_train1 = std.fit_transform(x_train)\n",
    "x_test1 = std.fit_transform(x_test)"
   ]
  },
  {
   "cell_type": "code",
   "execution_count": 26,
   "id": "0d8d6994-bdf0-4392-a121-13e5eed1dc06",
   "metadata": {},
   "outputs": [],
   "source": [
    "import matplotlib.pyplot as plt"
   ]
  },
  {
   "cell_type": "code",
   "execution_count": 27,
   "id": "6f72e0ec-de6d-467f-8145-36f748f9c289",
   "metadata": {},
   "outputs": [],
   "source": [
    "fea = ['Source Port', 'Destination Port', 'Protocol', 'Flow Duration',\n",
    "       'Total Fwd Packets', 'Total Backward Packets',\n",
    "       'Total Length of Fwd Packets', 'Total Length of Bwd Packets',\n",
    "       'Fwd Packet Length Max', 'Fwd Packet Length Min',\n",
    "       'Fwd Packet Length Mean', 'Fwd Packet Length Std',\n",
    "       'Bwd Packet Length Max', 'Bwd Packet Length Min',\n",
    "       'Bwd Packet Length Mean', 'Bwd Packet Length Std', 'Flow Bytes/s',\n",
    "       'Flow Packets/s', 'Flow IAT Mean', 'Flow IAT Std', 'Flow IAT Max',\n",
    "       'Flow IAT Min', 'Fwd IAT Total', 'Fwd IAT Mean', 'Fwd IAT Std',\n",
    "       'Fwd IAT Max', 'Fwd IAT Min', 'Bwd IAT Total', 'Bwd IAT Mean',\n",
    "       'Bwd IAT Std', 'Bwd IAT Max', 'Bwd IAT Min', 'Fwd PSH Flags',\n",
    "       'Bwd PSH Flags', 'Fwd URG Flags', 'Bwd URG Flags', 'Fwd Header Length',\n",
    "       'Bwd Header Length', 'Fwd Packets/s', 'Bwd Packets/s',\n",
    "       'Min Packet Length', 'Max Packet Length', 'Packet Length Mean',\n",
    "       'Packet Length Std', 'Packet Length Variance', 'FIN Flag Count',\n",
    "       'SYN Flag Count', 'RST Flag Count', 'PSH Flag Count', 'ACK Flag Count',\n",
    "       'URG Flag Count', 'CWE Flag Count', 'ECE Flag Count', 'Down/Up Ratio',\n",
    "       'Average Packet Size', 'Avg Fwd Segment Size', 'Avg Bwd Segment Size',\n",
    "       'Fwd Header Length.1', 'Fwd Avg Bytes/Bulk', 'Fwd Avg Packets/Bulk',\n",
    "       'Fwd Avg Bulk Rate', 'Bwd Avg Bytes/Bulk', 'Bwd Avg Packets/Bulk',\n",
    "       'Bwd Avg Bulk Rate', 'Subflow Fwd Packets', 'Subflow Fwd Bytes',\n",
    "       'Subflow Bwd Packets', 'Subflow Bwd Bytes', 'Init_Win_bytes_forward',\n",
    "       'Init_Win_bytes_backward', 'act_data_pkt_fwd', 'min_seg_size_forward',\n",
    "       'Active Mean', 'Active Std', 'Active Max', 'Active Min', 'Idle Mean',\n",
    "       'Idle Std', 'Idle Max', 'Idle Min']"
   ]
  },
  {
   "cell_type": "markdown",
   "id": "f9e8fd00-a201-4edc-9851-74975502fe41",
   "metadata": {},
   "source": [
    "### 未进行标准化的x_train"
   ]
  },
  {
   "cell_type": "code",
   "execution_count": 28,
   "id": "febc522a-1bc0-4866-ac53-94aa12385022",
   "metadata": {},
   "outputs": [
    {
     "data": {
      "image/png": "[encoded data removed]",
      "text/plain": [
       "<Figure size 3000x750 with 8 Axes>"
      ]
     },
     "metadata": {
      "needs_background": "light"
     },
     "output_type": "display_data"
    }
   ],
   "source": [
    "fig = plt.figure(dpi=150)\n",
    "fig.set_size_inches(20, 5) # 设置宽度和高度，单位为英寸（inch）\n",
    "\n",
    "for j in range(8):\n",
    "    ax = fig.add_subplot(2, 4, 1+j)\n",
    "    num = np.array(x_train[fea[j]])\n",
    "    plt.hist(num, 100)\n",
    "    plt.subplots_adjust(wspace=1, hspace=1) \n",
    "    ax.set_title(\"{}\".format(fea[j]),color=(\"green\" ),fontsize=8, ha='center') #设置title"
   ]
  },
  {
   "cell_type": "markdown",
   "id": "b09818a3-e061-4b17-840d-8cdfe3f4560e",
   "metadata": {},
   "source": [
    "### 进行标准化的x_train"
   ]
  },
  {
   "cell_type": "code",
   "execution_count": 30,
   "id": "35581b14-5613-46ce-bcd1-b443115b7e89",
   "metadata": {},
   "outputs": [
    {
     "data": {
      "image/png": "[encoded data removed]",
      "text/plain": [
       "<Figure size 3000x750 with 8 Axes>"
      ]
     },
     "metadata": {
      "needs_background": "light"
     },
     "output_type": "display_data"
    }
   ],
   "source": [
    "fig = plt.figure(dpi=150)\n",
    "fig.set_size_inches(20, 5) # 设置宽度和高度，单位为英寸（inch）\n",
    "\n",
    "for j in range(8):\n",
    "    ax = fig.add_subplot(2, 4, 1+j)\n",
    "    num = x_train1[j]\n",
    "    plt.hist(num, 100)\n",
    "    plt.subplots_adjust(wspace=1, hspace=1) \n",
    "    ax.set_title(\"{}\".format(fea[j]),color=(\"green\" ),fontsize=8, ha='center') #设置title"
   ]
  },
  {
   "cell_type": "markdown",
   "id": "205382d1-8e89-4174-816a-2fc9ac72092d",
   "metadata": {},
   "source": [
    "## 逻辑回归"
   ]
  },
  {
   "cell_type": "code",
   "execution_count": 55,
   "id": "00dfaaea-6c7c-4987-9004-2dfebd9ccd53",
   "metadata": {},
   "outputs": [],
   "source": [
    "from sklearn.linear_model import LogisticRegression\n",
    "from sklearn.metrics import classification_report,roc_auc_score, roc_curve, auc, f1_score"
   ]
  },
  {
   "cell_type": "code",
   "execution_count": 37,
   "id": "d56df850-efba-439b-bdc3-54dec5fae6cd",
   "metadata": {},
   "outputs": [
    {
     "name": "stderr",
     "output_type": "stream",
     "text": [
      "/Users/macbook/opt/anaconda3/lib/python3.8/site-packages/sklearn/linear_model/_logistic.py:763: ConvergenceWarning: lbfgs failed to converge (status=1):\n",
      "STOP: TOTAL NO. of ITERATIONS REACHED LIMIT.\n",
      "\n",
      "Increase the number of iterations (max_iter) or scale the data as shown in:\n",
      "    https://scikit-learn.org/stable/modules/preprocessing.html\n",
      "Please also refer to the documentation for alternative solver options:\n",
      "    https://scikit-learn.org/stable/modules/linear_model.html#logistic-regression\n",
      "  n_iter_i = _check_optimize_result(\n"
     ]
    },
    {
     "data": {
      "text/plain": [
       "LogisticRegression()"
      ]
     },
     "execution_count": 37,
     "metadata": {},
     "output_type": "execute_result"
    }
   ],
   "source": [
    "lr = LogisticRegression()\n",
    "lr.fit(x_train, y_train)"
   ]
  },
  {
   "cell_type": "code",
   "execution_count": 40,
   "id": "0ee68be5-3458-4e43-826d-ae021d151cb6",
   "metadata": {},
   "outputs": [
    {
     "name": "stdout",
     "output_type": "stream",
     "text": [
      "0.5413148967016111\n"
     ]
    }
   ],
   "source": [
    "score = lr.score(x_test, y_test)\n",
    "print(score)"
   ]
  },
  {
   "cell_type": "code",
   "execution_count": 41,
   "id": "a7d9ef85-983f-4739-9f32-1c68cf7e3c35",
   "metadata": {},
   "outputs": [
    {
     "data": {
      "image/png": "[encoded data removed]",
      "text/plain": [
       "<Figure size 432x288 with 1 Axes>"
      ]
     },
     "metadata": {
      "needs_background": "light"
     },
     "output_type": "display_data"
    }
   ],
   "source": [
    "y_test_proba_lr = lr.predict_proba(x_test)\n",
    "false_positive_rate_lr, recall_lr, thresholds_lr = roc_curve(y_test, y_test_proba_lr[:, 1])  \n",
    "# AUC指标\n",
    "roc_auc_lr = auc(false_positive_rate_lr, recall_lr) \n",
    "plt.plot(false_positive_rate_lr, recall_lr, color='blue', label='AUC_lr=%0.3f' % roc_auc_lr)  \n",
    "plt.legend(loc='best', fontsize=15, frameon=False)  \n",
    "plt.plot([0, 1], [0, 1], 'r--')  \n",
    "plt.xlim([0.0, 1.0])  \n",
    "plt.ylim([0.0, 1.0])  \n",
    "plt.ylabel('Recall')  \n",
    "plt.xlabel('Fall-out')  \n",
    "plt.show()"
   ]
  },
  {
   "cell_type": "code",
   "execution_count": 59,
   "id": "2d336087-a7ad-4cab-b360-ba638260c1bf",
   "metadata": {},
   "outputs": [
    {
     "name": "stdout",
     "output_type": "stream",
     "text": [
      "              precision    recall  f1-score   support\n",
      "\n",
      "        Good       0.57      0.03      0.06    363001\n",
      "         Bad       0.54      0.98      0.70    421958\n",
      "\n",
      "    accuracy                           0.54    784959\n",
      "   macro avg       0.55      0.51      0.38    784959\n",
      "weighted avg       0.55      0.54      0.40    784959\n",
      "\n"
     ]
    }
   ],
   "source": [
    "y_pred = lr.predict(x_test)\n",
    "report = classification_report(y_test,y_pred,target_names=[\"Good\",\"Bad\"])\n",
    "print(report)"
   ]
  },
  {
   "cell_type": "code",
   "execution_count": 60,
   "id": "2e3585ca-8aab-408e-9a91-917ec4ac5d7b",
   "metadata": {},
   "outputs": [
    {
     "data": {
      "text/plain": [
       "0.6961855378682721"
      ]
     },
     "execution_count": 60,
     "metadata": {},
     "output_type": "execute_result"
    }
   ],
   "source": [
    "f1_score(y_test, y_pred)"
   ]
  },
  {
   "cell_type": "markdown",
   "id": "8b74289f-562f-4b7d-9a39-aff4204537ed",
   "metadata": {},
   "source": [
    "## 决策树"
   ]
  },
  {
   "cell_type": "code",
   "execution_count": 48,
   "id": "288e0ae6-903d-4715-9be8-dcf367e3dc48",
   "metadata": {},
   "outputs": [],
   "source": [
    "import seaborn as sns\n",
    "from sklearn.tree import DecisionTreeClassifier   \n",
    "from sklearn import ensemble\n",
    "from sklearn.metrics import roc_curve, auc "
   ]
  },
  {
   "cell_type": "code",
   "execution_count": 49,
   "id": "e8e1fd37-0f0c-48f2-91b4-01773d15c9be",
   "metadata": {},
   "outputs": [],
   "source": [
    "clf = DecisionTreeClassifier()# 载入决策树分类模型\n",
    "clf = clf.fit(x_train, y_train)   # 决策树拟合，得到模型"
   ]
  },
  {
   "cell_type": "code",
   "execution_count": 50,
   "id": "4cd8e7ef-bf76-4383-a3cb-5cf93d0e2204",
   "metadata": {},
   "outputs": [
    {
     "name": "stdout",
     "output_type": "stream",
     "text": [
      "0.6593567307337072\n"
     ]
    }
   ],
   "source": [
    "score_c = clf.score(x_test, y_test)\n",
    "print(score_c)"
   ]
  },
  {
   "cell_type": "code",
   "execution_count": 51,
   "id": "bcbb202b-dc17-424e-a148-3f23808f6089",
   "metadata": {},
   "outputs": [
    {
     "data": {
      "image/png": "[encoded data removed]",
      "text/plain": [
       "<Figure size 432x288 with 1 Axes>"
      ]
     },
     "metadata": {
      "needs_background": "light"
     },
     "output_type": "display_data"
    }
   ],
   "source": [
    "y_test_proba_clf = clf.predict_proba(x_test)\n",
    "false_positive_rate_clf, recall_clf, thresholds_clf = roc_curve(y_test, y_test_proba_clf[:, 1])  \n",
    "# 决策树 AUC指标\n",
    "roc_auc_clf = auc(false_positive_rate_clf, recall_clf) \n",
    "plt.plot(false_positive_rate_clf, recall_clf, color='blue', label='AUC_clf=%0.3f' % roc_auc_clf) \n",
    "plt.legend(loc='best', fontsize=15, frameon=False)  \n",
    "plt.plot([0, 1], [0, 1], 'r--')  \n",
    "plt.xlim([0.0, 1.0])  \n",
    "plt.ylim([0.0, 1.0])  \n",
    "plt.ylabel('Recall')  \n",
    "plt.xlabel('Fall-out')  \n",
    "plt.show()"
   ]
  },
  {
   "cell_type": "code",
   "execution_count": 61,
   "id": "bcf78b9b-1a26-4ad9-ace7-2616ed92fd7d",
   "metadata": {},
   "outputs": [
    {
     "name": "stdout",
     "output_type": "stream",
     "text": [
      "              precision    recall  f1-score   support\n",
      "\n",
      "        Good       0.63      0.62      0.63    363001\n",
      "         Bad       0.68      0.69      0.69    421958\n",
      "\n",
      "    accuracy                           0.66    784959\n",
      "   macro avg       0.66      0.66      0.66    784959\n",
      "weighted avg       0.66      0.66      0.66    784959\n",
      "\n"
     ]
    }
   ],
   "source": [
    "y_pred = clf.predict(x_test)\n",
    "report = classification_report(y_test,y_pred,target_names=[\"Good\",\"Bad\"])\n",
    "print(report)"
   ]
  },
  {
   "cell_type": "code",
   "execution_count": 62,
   "id": "3dbdfb97-8807-415e-ae5f-85ab420165d9",
   "metadata": {},
   "outputs": [
    {
     "data": {
      "text/plain": [
       "0.6859252420536059"
      ]
     },
     "execution_count": 62,
     "metadata": {},
     "output_type": "execute_result"
    }
   ],
   "source": [
    "f1_score(y_test, y_pred)"
   ]
  },
  {
   "cell_type": "markdown",
   "id": "7be4a3e1-0f67-4236-8d99-792feba1d679",
   "metadata": {},
   "source": [
    "## 随机森林"
   ]
  },
  {
   "cell_type": "code",
   "execution_count": 43,
   "id": "d85efe19-68b5-44e5-ab6f-1745e55bfc40",
   "metadata": {},
   "outputs": [],
   "source": [
    "from sklearn.ensemble import RandomForestClassifier"
   ]
  },
  {
   "cell_type": "code",
   "execution_count": 44,
   "id": "6e402f5f-8327-49ce-96b1-1a5a2637ffda",
   "metadata": {},
   "outputs": [],
   "source": [
    "rfc = RandomForestClassifier(class_weight='balanced',random_state=37)   \n",
    "rfc = rfc.fit(x_train, y_train)"
   ]
  },
  {
   "cell_type": "code",
   "execution_count": 45,
   "id": "8ef4e7c3-a0f0-4dff-848f-4853cc53ef59",
   "metadata": {},
   "outputs": [],
   "source": [
    "score_r = rfc.score(x_test, y_test)"
   ]
  },
  {
   "cell_type": "code",
   "execution_count": 46,
   "id": "5a56f5f4-d693-4dc0-b8fe-76bdb0a0087a",
   "metadata": {},
   "outputs": [
    {
     "data": {
      "text/plain": [
       "0.6868830091762754"
      ]
     },
     "execution_count": 46,
     "metadata": {},
     "output_type": "execute_result"
    }
   ],
   "source": [
    "score_r"
   ]
  },
  {
   "cell_type": "code",
   "execution_count": 47,
   "id": "f18270c5-f7b7-423a-a179-9680e6567791",
   "metadata": {},
   "outputs": [
    {
     "data": {
      "image/png": "[encoded data removed]",
      "text/plain": [
       "<Figure size 432x288 with 1 Axes>"
      ]
     },
     "metadata": {
      "needs_background": "light"
     },
     "output_type": "display_data"
    }
   ],
   "source": [
    "y_test_proba_rfc = rfc.predict_proba(x_test)\n",
    "false_positive_rate_rfc, recall_rfc, thresholds_rfc = roc_curve(y_test, y_test_proba_rfc[:, 1])  \n",
    "# 随机森林 AUC指标\n",
    "roc_auc_rfc = auc(false_positive_rate_rfc, recall_rfc)     \n",
    "plt.plot(false_positive_rate_rfc, recall_rfc, color='orange', label='AUC_rfc=%0.3f' % roc_auc_rfc)  \n",
    "plt.legend(loc='best', fontsize=15, frameon=False)  \n",
    "plt.plot([0, 1], [0, 1], 'r--')  \n",
    "plt.xlim([0.0, 1.0])  \n",
    "plt.ylim([0.0, 1.0])  \n",
    "plt.ylabel('Recall')  \n",
    "plt.xlabel('Fall-out')  \n",
    "plt.show()"
   ]
  },
  {
   "cell_type": "code",
   "execution_count": 63,
   "id": "30c15c79-647a-4bf0-8424-5effc744bb6f",
   "metadata": {},
   "outputs": [
    {
     "name": "stdout",
     "output_type": "stream",
     "text": [
      "              precision    recall  f1-score   support\n",
      "\n",
      "        Good       0.67      0.65      0.66    363001\n",
      "         Bad       0.70      0.72      0.71    421958\n",
      "\n",
      "    accuracy                           0.69    784959\n",
      "   macro avg       0.68      0.68      0.68    784959\n",
      "weighted avg       0.69      0.69      0.69    784959\n",
      "\n"
     ]
    }
   ],
   "source": [
    "y_pred = rfc.predict(x_test)\n",
    "report = classification_report(y_test,y_pred,target_names=[\"Good\",\"Bad\"])\n",
    "print(report)"
   ]
  },
  {
   "cell_type": "code",
   "execution_count": 64,
   "id": "59454431-6d58-4eff-af21-dd1bcd0b1a07",
   "metadata": {},
   "outputs": [
    {
     "data": {
      "text/plain": [
       "0.7115563358463287"
      ]
     },
     "execution_count": 64,
     "metadata": {},
     "output_type": "execute_result"
    }
   ],
   "source": [
    "f1_score(y_test, y_pred)"
   ]
  }
 ],
 "metadata": {
  "kernelspec": {
   "display_name": "Python 3",
   "language": "python",
   "name": "python3"
  },
  "language_info": {
   "codemirror_mode": {
    "name": "ipython",
    "version": 3
   },
   "file_extension": ".py",
   "mimetype": "text/x-python",
   "name": "python",
   "nbconvert_exporter": "python",
   "pygments_lexer": "ipython3",
   "version": "3.8.8"
  }
 },
 "nbformat": 4,
 "nbformat_minor": 5
}
